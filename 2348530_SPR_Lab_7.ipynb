{
  "nbformat": 4,
  "nbformat_minor": 0,
  "metadata": {
    "colab": {
      "provenance": [],
      "include_colab_link": true
    },
    "kernelspec": {
      "name": "python3",
      "display_name": "Python 3"
    },
    "language_info": {
      "name": "python"
    }
  },
  "cells": [
    {
      "cell_type": "markdown",
      "metadata": {
        "id": "view-in-github",
        "colab_type": "text"
      },
      "source": [
        "<a href=\"https://colab.research.google.com/github/ManishSuhas0026/Speech-Processing/blob/main/2348530_SPR_Lab_7.ipynb\" target=\"_parent\"><img src=\"https://colab.research.google.com/assets/colab-badge.svg\" alt=\"Open In Colab\"/></a>"
      ]
    },
    {
      "cell_type": "markdown",
      "source": [
        "Step 1: Representing HMM Parameters"
      ],
      "metadata": {
        "id": "2r1B4Tx0HGjc"
      }
    },
    {
      "cell_type": "code",
      "execution_count": 1,
      "metadata": {
        "id": "cirLohbGG6kf"
      },
      "outputs": [],
      "source": [
        "# Initial probabilities\n",
        "initial_probabilities = {\n",
        "    '/s/': 1.0,\n",
        "    '/p/': 0.0,\n",
        "    '/ie:/': 0.0,\n",
        "    '/tS/': 0.0\n",
        "}\n",
        "\n",
        "# Transition probabilities\n",
        "transition_probabilities = {\n",
        "    '/s/': {'/s/': 0.1, '/p/': 0.8, '/ie:/': 0.1, '/tS/': 0.0},\n",
        "    '/p/': {'/s/': 0.0, '/p/': 0.1, '/ie:/': 0.8, '/tS/': 0.1},\n",
        "    '/ie:/': {'/s/': 0.0, '/p/': 0.0, '/ie:/': 0.2, '/tS/': 0.8},\n",
        "    '/tS/': {'/s/': 0.2, '/p/': 0.0, '/ie:/': 0.0, '/tS/': 0.8}\n",
        "}\n",
        "\n",
        "# Emission probabilities\n",
        "emission_probabilities = {\n",
        "    '/s/': {'Energy': 0.7, 'Pitch': 0.2, 'Duration': 0.1},\n",
        "    '/p/': {'Energy': 0.5, 'Pitch': 0.3, 'Duration': 0.2},\n",
        "    '/ie:/': {'Energy': 0.3, 'Pitch': 0.5, 'Duration': 0.2},\n",
        "    '/tS/': {'Energy': 0.4, 'Pitch': 0.4, 'Duration': 0.2}\n",
        "}\n"
      ]
    },
    {
      "cell_type": "markdown",
      "source": [
        "initial_probabilities: The starting probability is 1 for /s/ (it always starts here).\n",
        "transition_probabilities: Defines the likelihood of transitioning from one phoneme to another.\n",
        "emission_probabilities: Maps phonemes to the likelihood of emitting specific acoustic features."
      ],
      "metadata": {
        "id": "VU4hKZU1HPZy"
      }
    },
    {
      "cell_type": "markdown",
      "source": [
        "Step 2: Displaying HMM Parameters"
      ],
      "metadata": {
        "id": "fJYMt5QRHIUu"
      }
    },
    {
      "cell_type": "code",
      "source": [
        "def display_hmm_matrices():\n",
        "    print(\"Initial Probabilities:\")\n",
        "    for state, prob in initial_probabilities.items():\n",
        "        print(f\"{state}: {prob}\")\n",
        "\n",
        "    print(\"\\nTransition Probabilities:\")\n",
        "    for from_state, transitions in transition_probabilities.items():\n",
        "        print(f\"{from_state}: {transitions}\")\n",
        "\n",
        "    print(\"\\nEmission Probabilities:\")\n",
        "    for state, emissions in emission_probabilities.items():\n",
        "        print(f\"{state}: {emissions}\")\n",
        "\n",
        "# Display the matrices\n",
        "display_hmm_matrices()\n"
      ],
      "metadata": {
        "colab": {
          "base_uri": "https://localhost:8080/"
        },
        "id": "47lx9itFHIvn",
        "outputId": "76effb9c-19ce-4d2f-eeaa-7df76f0e7550"
      },
      "execution_count": 2,
      "outputs": [
        {
          "output_type": "stream",
          "name": "stdout",
          "text": [
            "Initial Probabilities:\n",
            "/s/: 1.0\n",
            "/p/: 0.0\n",
            "/ie:/: 0.0\n",
            "/tS/: 0.0\n",
            "\n",
            "Transition Probabilities:\n",
            "/s/: {'/s/': 0.1, '/p/': 0.8, '/ie:/': 0.1, '/tS/': 0.0}\n",
            "/p/: {'/s/': 0.0, '/p/': 0.1, '/ie:/': 0.8, '/tS/': 0.1}\n",
            "/ie:/: {'/s/': 0.0, '/p/': 0.0, '/ie:/': 0.2, '/tS/': 0.8}\n",
            "/tS/: {'/s/': 0.2, '/p/': 0.0, '/ie:/': 0.0, '/tS/': 0.8}\n",
            "\n",
            "Emission Probabilities:\n",
            "/s/: {'Energy': 0.7, 'Pitch': 0.2, 'Duration': 0.1}\n",
            "/p/: {'Energy': 0.5, 'Pitch': 0.3, 'Duration': 0.2}\n",
            "/ie:/: {'Energy': 0.3, 'Pitch': 0.5, 'Duration': 0.2}\n",
            "/tS/: {'Energy': 0.4, 'Pitch': 0.4, 'Duration': 0.2}\n"
          ]
        }
      ]
    },
    {
      "cell_type": "markdown",
      "source": [
        "The function iterates through dictionaries to neatly display the HMM parameters.\n",
        "Prints the initial, transition, and emission probabilities."
      ],
      "metadata": {
        "id": "y49yRlJQHXoq"
      }
    },
    {
      "cell_type": "markdown",
      "source": [
        "Step 3: Generating Phoneme and Observation Sequences"
      ],
      "metadata": {
        "id": "YfAclvpDHJHs"
      }
    },
    {
      "cell_type": "code",
      "source": [
        "import random\n",
        "\n",
        "def generate_sequence():\n",
        "    current_state = '/s/'  # Start with the initial state\n",
        "    phoneme_sequence = [current_state]\n",
        "    observation_sequence = []\n",
        "\n",
        "    # Generate phoneme sequence\n",
        "    while len(phoneme_sequence) < 4:  # Limit to 4 phonemes for simplicity\n",
        "        next_state = random.choices(\n",
        "            population=list(transition_probabilities[current_state].keys()),\n",
        "            weights=list(transition_probabilities[current_state].values())\n",
        "        )[0]\n",
        "        phoneme_sequence.append(next_state)\n",
        "        current_state = next_state\n",
        "\n",
        "    # Generate corresponding observations\n",
        "    for phoneme in phoneme_sequence:\n",
        "        observation = random.choices(\n",
        "            population=list(emission_probabilities[phoneme].keys()),\n",
        "            weights=list(emission_probabilities[phoneme].values())\n",
        "        )[0]\n",
        "        observation_sequence.append(observation)\n",
        "\n",
        "    return phoneme_sequence, observation_sequence\n",
        "\n",
        "# Generate sequences\n",
        "phonemes, observations = generate_sequence()\n",
        "print(\"Generated Phoneme Sequence:\", phonemes)\n",
        "print(\"Generated Observation Sequence:\", observations)\n"
      ],
      "metadata": {
        "colab": {
          "base_uri": "https://localhost:8080/"
        },
        "id": "Pgg7yoJgHJnD",
        "outputId": "56dc95fa-501d-4fd9-cc4f-2e417180fe07"
      },
      "execution_count": 3,
      "outputs": [
        {
          "output_type": "stream",
          "name": "stdout",
          "text": [
            "Generated Phoneme Sequence: ['/s/', '/ie:/', '/ie:/', '/tS/']\n",
            "Generated Observation Sequence: ['Energy', 'Duration', 'Pitch', 'Pitch']\n"
          ]
        }
      ]
    },
    {
      "cell_type": "markdown",
      "source": [
        "Phoneme Sequence:\n",
        "Starts with /s/.\n",
        "Uses random.choices() with transition probabilities to determine the next phoneme.\n",
        "Repeats until a sequence of 4 phonemes is generated.\n",
        "Observation Sequence:\n",
        "For each phoneme, selects an acoustic property based on emission probabilities."
      ],
      "metadata": {
        "id": "toKatw6MHKC6"
      }
    },
    {
      "cell_type": "code",
      "source": [],
      "metadata": {
        "id": "zGD-dMFYHKb1"
      },
      "execution_count": 3,
      "outputs": []
    },
    {
      "cell_type": "markdown",
      "source": [
        "Inference\n",
        "\n",
        "The phoneme sequence {phonemes} represents the word 'speech' phonetically.\n",
        "The observations {observations} correspond to measurable acoustic properties emitted by these phonemes."
      ],
      "metadata": {
        "id": "nODEvr_9HpLf"
      }
    },
    {
      "cell_type": "markdown",
      "source": [
        "Extra learning"
      ],
      "metadata": {
        "id": "2ASxEBpEKBbU"
      }
    },
    {
      "cell_type": "code",
      "source": [
        "import numpy as np\n",
        "\n",
        "def viterbi_algorithm(observations):\n",
        "    states = list(emission_probabilities.keys())\n",
        "    n_states = len(states)\n",
        "    n_observations = len(observations)\n",
        "\n",
        "    # Initialize tables\n",
        "    viterbi = np.zeros((n_states, n_observations))\n",
        "    backpointer = np.zeros((n_states, n_observations), dtype=int)\n",
        "\n",
        "    # Initialization step\n",
        "    for s in range(n_states):\n",
        "        viterbi[s, 0] = initial_probabilities[states[s]] * emission_probabilities[states[s]].get(observations[0], 0)\n",
        "        backpointer[s, 0] = 0\n",
        "\n",
        "    # Recursion step\n",
        "    for t in range(1, n_observations):\n",
        "        for s in range(n_states):\n",
        "            transition_probs = [\n",
        "                viterbi[prev_s, t - 1] * transition_probabilities[states[prev_s]][states[s]] for prev_s in range(n_states)\n",
        "            ]\n",
        "            max_prob = max(transition_probs)\n",
        "            max_state = transition_probs.index(max_prob)\n",
        "            viterbi[s, t] = max_prob * emission_probabilities[states[s]].get(observations[t], 0)\n",
        "            backpointer[s, t] = max_state\n",
        "\n",
        "    # Termination step\n",
        "    best_path = []\n",
        "    best_last_state = np.argmax(viterbi[:, -1])\n",
        "    best_path.append(states[best_last_state])\n",
        "\n",
        "    for t in range(n_observations - 1, 0, -1):\n",
        "        best_last_state = backpointer[best_last_state, t]\n",
        "        best_path.insert(0, states[best_last_state])\n",
        "\n",
        "    return best_path\n",
        "\n",
        "# Example observation sequence\n",
        "observations = [\"Energy\", \"Pitch\", \"Duration\", \"Energy\"]\n",
        "decoded_phonemes = viterbi_algorithm(observations)\n",
        "print(\"Decoded Phoneme Sequence:\", decoded_phonemes)\n"
      ],
      "metadata": {
        "colab": {
          "base_uri": "https://localhost:8080/"
        },
        "id": "8OuRiFCTKEpS",
        "outputId": "0a4a55ca-8a58-43b1-bb87-e9e9c37402b2"
      },
      "execution_count": 4,
      "outputs": [
        {
          "output_type": "stream",
          "name": "stdout",
          "text": [
            "Decoded Phoneme Sequence: ['/s/', '/p/', '/ie:/', '/tS/']\n"
          ]
        }
      ]
    },
    {
      "cell_type": "markdown",
      "source": [
        "2. Visualize the HMM Using Graph Libraries"
      ],
      "metadata": {
        "id": "SG2ynFoRKPLm"
      }
    },
    {
      "cell_type": "code",
      "source": [
        "import networkx as nx\n",
        "import matplotlib.pyplot as plt\n",
        "\n",
        "def visualize_hmm():\n",
        "    G = nx.DiGraph()\n",
        "\n",
        "    # Add nodes\n",
        "    for state in transition_probabilities:\n",
        "        G.add_node(state)\n",
        "\n",
        "    # Add edges with probabilities\n",
        "    for from_state, transitions in transition_probabilities.items():\n",
        "        for to_state, prob in transitions.items():\n",
        "            if prob > 0:  # Only add edges with non-zero probabilities\n",
        "                G.add_edge(from_state, to_state, weight=prob)\n",
        "\n",
        "    # Draw the graph\n",
        "    pos = nx.spring_layout(G)\n",
        "    nx.draw(G, pos, with_labels=True, node_color='lightblue', node_size=2000, font_size=10)\n",
        "    edge_labels = nx.get_edge_attributes(G, 'weight')\n",
        "    nx.draw_networkx_edge_labels(G, pos, edge_labels={(u, v): f\"{d['weight']:.1f}\" for u, v, d in G.edges(data=True)})\n",
        "    plt.title(\"HMM Visualization\")\n",
        "    plt.show()\n",
        "\n",
        "# Visualize the HMM\n",
        "visualize_hmm()\n"
      ],
      "metadata": {
        "colab": {
          "base_uri": "https://localhost:8080/",
          "height": 539
        },
        "id": "SfRCTzPlKGdO",
        "outputId": "ca243481-a93f-49ff-c4de-5b1a9d7ebd14"
      },
      "execution_count": 5,
      "outputs": [
        {
          "output_type": "display_data",
          "data": {
            "text/plain": [
              "<Figure size 640x480 with 1 Axes>"
            ],
            "image/png": "[encoded data removed]"
          },
          "metadata": {}
        }
      ]
    }
  ]
}